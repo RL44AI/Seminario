{
  "nbformat": 4,
  "nbformat_minor": 0,
  "metadata": {
    "colab": {
      "provenance": [],
      "include_colab_link": true
    },
    "kernelspec": {
      "name": "python3",
      "display_name": "Python 3"
    }
  },
  "cells": [
    {
      "cell_type": "markdown",
      "metadata": {
        "id": "view-in-github",
        "colab_type": "text"
      },
      "source": [
        "<a href=\"https://colab.research.google.com/github/RL44AI/Seminario/blob/main/Seminario_Algoritmos.ipynb\" target=\"_parent\"><img src=\"https://colab.research.google.com/assets/colab-badge.svg\" alt=\"Open In Colab\"/></a>"
      ]
    },
    {
      "cell_type": "markdown",
      "metadata": {
        "id": "hVbXYX-RfPWh"
      },
      "source": [
        "# Algoritmos de optimización - Seminario<br>\n",
        "Nombre y Apellidos: Ruben Lima Garcia  <br>\n",
        "Url: https://github.com/RL44AI/Seminario/blob/main/Seminario_Algoritmos.ipynb<br>\n",
        "Problema:\n",
        ">2. Organizar los horarios de partidos de La Liga<br>\n",
        "\n",
        "Descripción del problema:(copiar enunciado)\n",
        "Desde la La Liga de fútbol profesional se pretende organizar los horarios de los partidos de liga de cada jornada. Se conocen algunos datos que nos deben llevar a diseñar un algoritmo que realice la asignación de los partidos a los horarios de forma que maximice\n",
        "la audiencia.\n",
        "\n",
        "(*) La respuesta es obligatoria\n",
        "\n",
        "\n",
        "\n",
        "\n",
        "\n",
        "                                        "
      ]
    },
    {
      "cell_type": "markdown",
      "metadata": {
        "id": "3_-exlrTgLd-"
      },
      "source": [
        "(*)¿Cuantas posibilidades hay sin tener en cuenta las restricciones?<br>\n",
        "\n",
        "\n",
        "\n",
        "¿Cuantas posibilidades hay teniendo en cuenta todas las restricciones.\n",
        "\n",
        "\n"
      ]
    },
    {
      "cell_type": "markdown",
      "metadata": {
        "id": "WfCUqJyKhPcw"
      },
      "source": [
        "Respuesta\n",
        "\n",
        "Tomando los datos que tenemos que son la cantidad de partidos y los horarios dispobibles podemos obtener la cantidad de posibilidades sin tener en cuenta ninguna restricción.   \n",
        "\n",
        "Datos:\n",
        "\n",
        "      ------- Horarios ------\n",
        "      Viernes 20hs\n",
        "      Sabado  12,16,18,20\n",
        "      Domingo 12,16,18,20\n",
        "      Lunes   20hs\n",
        "      ------- Partidos ------\n",
        "      Tenemos 10 partidos en total, ya que tenemos 20 equipos.\n",
        "\n",
        "De esto, podemos inferir que el partido 1 tiene 10 opciones de horario, el partido 2 tambien tiene 10, y asi sucesivamente ya que el problema permite aunque con un costo, los multiples partidos en horarios.\n",
        "El problema tambien muestra una tabla con hasta 8 conincidencias de horarios, reduciendo un 80% de audiencia si pusieramos el problema como maximo 8 coincidencias de horario, el valor no cambiaría mucho asi que podemos decir que se acerca al de sin restricciones para los 10 partidos.\n",
        "\n",
        "Para hacer el calculo usamos los partidos posibles y los horarios posibles y hacemos una ecuacion que es la (horarios posibles) ^ (cantidad de partidos) lo que nos deja con 10^10"
      ]
    },
    {
      "cell_type": "code",
      "metadata": {
        "id": "iq6Fe32MgpDX",
        "colab": {
          "base_uri": "https://localhost:8080/"
        },
        "outputId": "560f1540-7781-4dd8-e8ab-b2cf1aef1d26"
      },
      "source": [
        "A= 10**10\n",
        "print(A)"
      ],
      "execution_count": null,
      "outputs": [
        {
          "output_type": "stream",
          "name": "stdout",
          "text": [
            "10000000000\n"
          ]
        }
      ]
    },
    {
      "cell_type": "markdown",
      "source": [
        "A partir de este acercamiento podemos obtener tambien las posibilidades que tienen los partidos utilizando todas las restricciones. En este caso, aunque, tenemos varias hits negativos al hacer X o Y no son restricciones como tal, por lo que la unica real, son los horarios. El hecho de que tenemos que tener tanto 1 partido viernes, como 1 partido lunes.\n",
        "\n",
        "Para lograr obtener esto, podemos basarnos en que ya sabemos el total sin restricciones y restamos las posibilidades para las restricciones.\n",
        "Sabemos que tenemos que cumplir que 1 partido que no este en viernes (A) y 1 partido que no este en lunes (B) y tambien esta la posibilidad de no tener ningun partido ni lunes o viernes suponiendo que todos vayan al mismo horario (C). Existe que todos vayan tanto a lunes como viernes pero no cambia las posibilidades ya que esta inlcuido dentro del calculo general de las posibilidades.\n",
        "\n",
        "Formula = cantidad de horarios ^ cantidad de partidos\n",
        "A= (9 horarios posibles) ^ (10 partidos disponibles ) = 9^10\n",
        "B= (9 horarios posibles) ^ (10 partidos disponibles ) = 9^10\n",
        "C= (8 horarios posibles) ^ (10 partidos disponibles ) = 8^10.\n",
        "\n",
        "Entonces sumando todas estas restricciones nos da un valor de posibilidades donde no se cumple la restriccion pedida, este valor lo restamos a las posibilidades totales obtenidas anteriormente y ya obtenemos el valor buscado.\n",
        "\n"
      ],
      "metadata": {
        "id": "xScr5xhMb-9u"
      }
    },
    {
      "cell_type": "code",
      "source": [
        "PartidosSinRestricciones = 10**10\n",
        "PartidosSinViernes=9**10\n",
        "PartidosSinLunes=9**10\n",
        "PartidosSinLunesyViernes=8**10 #Usando la formula de la union, procedemos a evitar la repeticion de los casos y restamos los que no tienen ningun viernes ni lunes.\n",
        "PartidosConRestricciones=(PartidosSinViernes+PartidosSinLunes)-PartidosSinLunesyViernes\n",
        "PosibilidadesTotales = PartidosSinRestricciones - PartidosConRestricciones\n",
        "print(PosibilidadesTotales)"
      ],
      "metadata": {
        "colab": {
          "base_uri": "https://localhost:8080/"
        },
        "id": "cxdttXf3b-My",
        "outputId": "be26df22-0131-4618-91d1-b2d63b863892"
      },
      "execution_count": null,
      "outputs": [
        {
          "output_type": "stream",
          "name": "stdout",
          "text": [
            "4100173022\n"
          ]
        }
      ]
    },
    {
      "cell_type": "markdown",
      "metadata": {
        "id": "dzynfVJahHoY"
      },
      "source": [
        "Modelo para el espacio de soluciones<br>\n",
        "(*) ¿Cual es la estructura de datos que mejor se adapta al problema? Argumentalo.(Es posible que hayas elegido una al principio y veas la necesidad de cambiar, arguentalo)\n"
      ]
    },
    {
      "cell_type": "markdown",
      "metadata": {
        "id": "xFIJrOwKi2Ti"
      },
      "source": [
        "Debido a los tipos de datos utilizados como primera prueba intentare utilizar listas y matrices. Esto lo cambiaré si mas adelante veo que es muy lento o pruebo una solucion mas rapida con otro tipo de estructura de datos."
      ]
    },
    {
      "cell_type": "code",
      "metadata": {
        "id": "38c-7-ejhJmA"
      },
      "source": [],
      "execution_count": null,
      "outputs": []
    },
    {
      "cell_type": "markdown",
      "metadata": {
        "id": "7Z9U2W7bi-XS"
      },
      "source": [
        "Según el modelo para el espacio de soluciones<br>\n",
        "(*)¿Cual es la función objetivo?\n",
        "\n",
        "Para obtener la función objetivo debemos ver que es lo que tenemos para calcularla. La misión es maximizar la cantidad de audiencia, sabemos que tenemos una cantidad de equipos, de horarios disponibles y 1 restricción fija. Sabemos tambien que dependiendo de la cantidad de partidos en un mismo horario y/o de equipos que juegan entre si hay un valor que va variando respecto a una tabla de porcentajes. Por lo tanto podriamos empezar a describir las variables con las que contamos:\n",
        "\n",
        "    Partidos: Sabemos que tenemos que tener 10 partidos en total, por lo que Partidos =[partido1,partido2,partido3,etc...]\n",
        "\n",
        "    Horarios: [H1,H2,H3 etc... ] en donde estas Hs representan sabado a las 12, sabado a las 16 y el resto de horarios disponibles\n",
        "\n",
        "    X = una matriz de valores para la asignacion de partidos, como cada partido se puede asignar solamente 1 vez a un horario, no puede estar en multiples.\n",
        "    \n",
        "    AudienciaBase = [P1 = 2.0, # partido A vs A, P2= 1.3, # A vs B, P3= 1.0,   # A vs C, P4= 0.9, # B vs B, P5= 0.75, # B vs C]\n",
        "\n",
        "    CoeficienteHorario  [0.4 # Viernes a las 20hs, 0.55 # sabado a las 12 hs, etc ]\n",
        "\n",
        "    CoeficienteCoincidencia [0, 25% #1 partido, 45% #2 partidos, %60 #3 partidos] al saber que el problema dice que se reduce en esta cantidad entonces el valor real a utilizar sería 1-CoeficienteCoincidencia\n",
        "\n",
        "Al tener 10^10 posibles soluciones totales, y luego como ya vimos, la reducidas por las restricciones, tenemos que tener un espacio de soluciones PosiblesSoluciones, que va a tener tanto valores tanto en X como en Y y que va a ser del tamaño total de las soluciones posibles.\n",
        "\n",
        "Debemos contar cada partido cuando este, este en la posicion que queremos respecto a la x y Y es decir, va a ser 1 en una posicion y 0 en las demas debido a esto, necesitamos una sumatoria de 0 a 10 en X y luego complementarlo con una sumatoria de 0 a 10 en Y para ir recorriendo toda la matriz de soluciones.\n",
        "\n",
        "Tenemos el valor de AudienciaBase, que es el valor que tienen los partidos AA, AB etc. ese valor sabemos que tambien viene modificado por el coeficiente de horario y asimismo por el coeficiente de coincidencia. Este coeficiente nos ayuda a determinar cuantos partidos hay en 1 horario por lo que tenemos que sumar todos, eso se convierte en una sumatoria de los partidos del mismo horario exceptuando, el que estamos revisando claro está.\n",
        "\n",
        "Entonces la formula quedaria algo asi\n",
        "    x=1∑10​y=1∑10​MatrizSolucionesxy​⋅AudienciaBase(px​)⋅CoeficienteHorario(fjy)⋅CoeficienteCoincidencia(k=1∑10​MatrizSolucionesky​−1)\n",
        "\n",
        "(*)¿Es un problema de maximización o minimización?\n",
        "\n",
        "Es totalmente un problema de maximización, ya que queremos maximizar la audiencia."
      ]
    },
    {
      "cell_type": "markdown",
      "metadata": {
        "id": "rlnTYgY1j6I2"
      },
      "source": [
        "Diseña un algoritmo para resolver el problema por fuerza bruta"
      ]
    },
    {
      "cell_type": "markdown",
      "metadata": {
        "id": "70rDgxYXkC8r"
      },
      "source": [
        "Respuesta\n",
        "\n",
        "empezamos por saber lo que tenemos que lograr y los valores que ya definimos arriba, en como debería ir la ecuación, basandonos en la FO podemos ir creando el algoritmo, definiendo las variables, funciones y printeando pruebas para saber si lo que hicimimos esta correcto. Para esto podemos hacer una prueba simple de un espacio de 2x2 y verificarlo en codigo y a mano, esto sugiere que nuestro codigo es correcto.\n",
        "\n"
      ]
    },
    {
      "cell_type": "markdown",
      "source": [
        "En lugar de tirar todo el codigo de una vez, como normalmente me gusta hacerlo. debido a la complejidad de hacer varias iteraciones de 10^10. Intentare hacer un batch de prueba de 5^5 opciones. Que me puede ayudar a verificar si el codigo esta estructurado bien para un algoritmo de fuerza bruta y si nos provee de una solucion que nos parezca razonable."
      ],
      "metadata": {
        "id": "CBzJ5Om80G6H"
      }
    },
    {
      "cell_type": "code",
      "metadata": {
        "id": "CJb5sQ0qkENy",
        "colab": {
          "base_uri": "https://localhost:8080/"
        },
        "outputId": "1f6a10ce-588e-4581-9c45-10d8cd3c2378"
      },
      "source": [
        "import itertools\n",
        "\n",
        "#Declaramos las variables que vamos a utilizar, en este caso seran de 5 posiciones aunque si defina todas las variables de una vez.\n",
        "AudienciaBase=[2.0,1.3,0.9,1,0.75] #AvA,AvB,BvB,AvC,CvC.\n",
        "Partidos=[\"AvA\",\"AvB\",\"BvB\",\"AvC\",\"CvC\"]\n",
        "\n",
        "#Horarios pedidos y coeficiente asignado a los mismos\n",
        "Horarios=[\"Viernes 20hs\",\"Sabado 12hs\",\"Sabado 16hs\",\"Sabado 18hs\",\"Sabado 20hs\",\"Domingo 12hs\",\"Domingo 16hs\",\"Domingo 18hs\",\"Domingo 20hs\",\"Lunes 20hs\"]\n",
        "CoeficienteHorario=[0.4,0.55,0.7,0.8,1,0.45,0.75,0.85,1,0.4]\n",
        "\n",
        "#Factor de coincidencia\n",
        "FactorCoincidencia=[0,0.25,0.45,0.6,0.70,0.75,0.78,0.8,0.8,0.8,0.8]\n",
        "Coincidencias=[\"1\",\"2\",\"3\",\"4\",\"5\",\"6\",\"7\",\"8\",\"9\",\"10\"]\n",
        "\n",
        "def calcular_audiencia(asignacion):\n",
        "#Como dependemos tambien de cuantos partidos hay por horario, vamos a contarlos de primero. Medimos la longitud de horarios y luego creamos posiciones para conteo.\n",
        "    coef_horarios_len = len(Horarios)\n",
        "    conteo = [0] * coef_horarios_len\n",
        "    for a in asignacion:\n",
        "        conteo[a] += 1\n",
        "#Calculamos la audiencia por partido ya con los ajustes\n",
        "    total = 0\n",
        "    for x, y in enumerate(asignacion):\n",
        "        base = AudienciaBase[x]             # audiencia base del partido en el indice i\n",
        "        coef_h = CoeficienteHorario[y]      # coeficiente del horario elegido\n",
        "        k = conteo[y] - 1              # número de coincidencias (otros partidos en el mismo horario)\n",
        "        factor = FactorCoincidencia[k]\n",
        "        total += base * coef_h * factor\n",
        "    return total\n",
        "\n",
        "#Iniciamos la busqueda por fuerza bruta\n",
        "\n",
        "mejor_asignacion = None\n",
        "mejor_audiencia = 0\n",
        "\n",
        "# Generamos todas las combinaciones posibles de 5 partidos en 5 horarios\n",
        "for asignacion in itertools.product(range(5), repeat=5):\n",
        "    audiencia = calcular_audiencia(asignacion)\n",
        "    if audiencia > mejor_audiencia:\n",
        "        mejor_audiencia = audiencia\n",
        "        mejor_asignacion = asignacion\n",
        "\n",
        "print(\"Mejor asignación encontrada:\", mejor_asignacion)\n",
        "print(\"Audiencia total máxima:\", mejor_audiencia)\n"
      ],
      "execution_count": null,
      "outputs": [
        {
          "output_type": "stream",
          "name": "stdout",
          "text": [
            "Mejor asignación encontrada: (4, 4, 4, 4, 4)\n",
            "Audiencia total máxima: 4.164999999999999\n"
          ]
        }
      ]
    },
    {
      "cell_type": "markdown",
      "source": [
        "Ahora que ya sabemos que el algoritmo funciona, podemos entonces pasar a la siguiente fase en donde tenemos el juego de datos de 10x10. Si intentamos hacerlo solamente asi, se tarda una eternidad por lo que lo mejor sería hacerlo por partes. Aqui tamien ya cambiamos un poco el algoritmo, debido a que la forma en la que se hizo el 5 por 5 teniamos datos ya puestos por default por lo que tenemos que generarlos. Todas las combinaciones de partidos AvsA AvsB y Bvs C y BvsB etc, aparte de los valores de cada partido en cuanto a audiencia y los coeficientes. La funcion objetivo si esta correcta por lo que es solamente el procesamiento de los datos que le damos, lo que necesitamos mejorar."
      ],
      "metadata": {
        "id": "djCUJ2ErhdXj"
      }
    },
    {
      "cell_type": "code",
      "source": [
        "import itertools\n",
        "import random\n",
        "\n",
        "# Categoría A (3 equipos)\n",
        "equipos_A = [\"A1\", \"A2\", \"A3\"]\n",
        "\n",
        "# Categoría B (11 equipos)\n",
        "equipos_B = [\"B1\", \"B2\", \"B3\", \"B4\", \"B5\", \"B6\", \"B7\", \"B8\", \"B9\", \"B10\", \"B11\"]\n",
        "\n",
        "# Categoría C (6 equipos)\n",
        "equipos_C = [\"C1\", \"C2\", \"C3\", \"C4\", \"C5\", \"C6\"]\n",
        "\n",
        "#Generamos todos los partidos posibles con la funcion itertools.combinations. Que nos da todas las combinaciones de 2 elementos distintos sin repetir orden\n",
        "\n",
        "# A vs A\n",
        "AA = [f\"{a1} vs {a2}\" for a1, a2 in itertools.combinations(equipos_A, 2)]\n",
        "# B vs B\n",
        "BB = [f\"{b1} vs {b2}\" for b1, b2 in itertools.combinations(equipos_B, 2)]\n",
        "# C vs C\n",
        "CC = [f\"{c1} vs {c2}\" for c1, c2 in itertools.combinations(equipos_C, 2)]\n",
        "# A vs B\n",
        "AB = [f\"{a} vs {b}\" for a, b in itertools.product(equipos_A, equipos_B)]\n",
        "# A vs C\n",
        "AC = [f\"{a} vs {c}\" for a, c in itertools.product(equipos_A, equipos_C)]\n",
        "# B vs C\n",
        "BC = [f\"{b} vs {c}\" for b, c in itertools.product(equipos_B, equipos_C)]\n",
        "\n",
        "# Concatenamos todas las posibilidades en 1 sola lista\n",
        "\n",
        "todos_los_partidos = AA + BB + CC + AB + AC + BC\n",
        "print(f\"Total de partidos posibles: {len(todos_los_partidos)}\")\n",
        "\n",
        "#Definimos nuestra audiencia base en un diccionario para que sea mas facil ir por el valor de la misma ya que tenemos que hacerlo siempre\n",
        "audiencia_base = {\n",
        "    (\"A\", \"A\"): 2.0,\n",
        "    (\"A\", \"B\"): 1.3,\n",
        "    (\"B\", \"A\"): 1.3,\n",
        "    (\"A\", \"C\"): 1.0,\n",
        "    (\"C\", \"A\"): 1.0,\n",
        "    (\"B\", \"B\"): 0.9,\n",
        "    (\"B\", \"C\"): 0.75,\n",
        "    (\"C\", \"B\"): 0.75,\n",
        "}\n",
        "\n",
        "#definimos una funcion para obtener la audiencia dependiendo del partido, Basicamente nos entra el string de partido, que sacamos mas abajo y luego lo spliteamos\n",
        "#Luego nos quedamos solo con \"A\" \"B\" o \"C\" y en base a eso, obtenemos el valor por medio de la consulta al diccionario.\n",
        "def obtener_audiencia(partido: str) -> float:\n",
        "    \"\"\"Devuelve la audiencia base de un partido según las categorías.\"\"\"\n",
        "    eq1, _, eq2 = partido.split()\n",
        "    cat1, cat2 = eq1[0], eq2[0]  # A, B o C\n",
        "    return audiencia_base.get((cat1, cat2), 0.5)\n",
        "\n",
        "#Horarios y coincidencias\n",
        "horariosl = [\"Viernes 20h\", \"Sábado 12h\", \"Sábado 16h\", \"Sábado 18h\", \"Sábado 20h\",\n",
        "            \"Domingo 12h\", \"Domingo 16h\", \"Domingo 18h\", \"Domingo 20h\", \"Lunes 20h\"]\n",
        "coef_horarios = [0.4, 0.55, 0.7, 0.8, 1, 0.45, 0.75, 0.85, 1, 0.4]\n",
        "factor_coincidencia = [0,0.25,0.45,0.6,0.70,0.75,0.78,0.8,0.8,0.8,0.8]\n",
        "\n",
        "\n",
        "def calcular_fo(asignacion, partidos):\n",
        "    conteo = [0] * len(coef_horarios)\n",
        "    for h in asignacion:\n",
        "        conteo[h] += 1\n",
        "\n",
        "    total = 0\n",
        "    for i, h in enumerate(asignacion):\n",
        "        base = obtener_audiencia(partidos[i])\n",
        "        coef_h = coef_horarios[h]\n",
        "        k = conteo[h] - 1\n",
        "        factor = factor_coincidencia[k]\n",
        "        total += base * coef_h * factor\n",
        "    return total\n",
        "\n",
        "  #Vamos a la parte de la prueba que hacemos en batch\n",
        "partidos_batch = random.sample(todos_los_partidos, 10)\n",
        "print(\"\\nPartidos seleccionados para el batch:\")\n",
        "for p in partidos_batch:\n",
        "    print(\" -\", p)\n",
        "\n",
        "#Vamos a ir guardando los mejores 3 del batch\n",
        "top_k = 3\n",
        "mejores = []\n",
        "\n",
        "#Si recorremos las 10 a la 10, mataríamos la memoria, por eso recurrimos a los batches. En este caso 1 de 100K\n",
        "for _ in range(100000):\n",
        "    asignacion = [random.randint(0, 9) for _ in range(10)]  # 10 partidos → 10 horarios\n",
        "    fo = calcular_fo(asignacion, partidos_batch)\n",
        "\n",
        "    if len(mejores) < top_k:\n",
        "        mejores.append((fo, asignacion))\n",
        "        mejores.sort(reverse=True)\n",
        "    else:\n",
        "        if fo > mejores[-1][0]:\n",
        "            mejores[-1] = (fo, asignacion)\n",
        "            mejores.sort(reverse=True)\n",
        "\n",
        "#Impresion de los mejores resultados\n",
        "\n",
        "print(\"\\n=== TOP 3 asignaciones ===\")\n",
        "for rank, (fo, asign) in enumerate(mejores, start=1):\n",
        "    print(f\"{rank}. FO = {fo:.2f}\")\n",
        "    for partido, horario in zip(partidos_batch, asign):\n",
        "        print(f\"   {partido} → Horario {horario}\")\n",
        "    print()"
      ],
      "metadata": {
        "colab": {
          "base_uri": "https://localhost:8080/"
        },
        "id": "JUGQaGC85YWi",
        "outputId": "6b7675fa-a96b-4e4c-9aba-e547188c3eb4"
      },
      "execution_count": null,
      "outputs": [
        {
          "output_type": "stream",
          "name": "stdout",
          "text": [
            "Total de partidos posibles: 190\n",
            "\n",
            "Partidos seleccionados para el batch:\n",
            " - B8 vs B11\n",
            " - B8 vs B9\n",
            " - A1 vs C1\n",
            " - B3 vs B6\n",
            " - B4 vs C6\n",
            " - B2 vs C5\n",
            " - A1 vs B9\n",
            " - C3 vs C5\n",
            " - A1 vs B6\n",
            " - A2 vs B9\n",
            "\n",
            "=== TOP 3 asignaciones ===\n",
            "1. FO = 6.47\n",
            "   B8 vs B11 → Horario 4\n",
            "   B8 vs B9 → Horario 7\n",
            "   A1 vs C1 → Horario 4\n",
            "   B3 vs B6 → Horario 7\n",
            "   B4 vs C6 → Horario 7\n",
            "   B2 vs C5 → Horario 4\n",
            "   A1 vs B9 → Horario 4\n",
            "   C3 vs C5 → Horario 7\n",
            "   A1 vs B6 → Horario 4\n",
            "   A2 vs B9 → Horario 4\n",
            "\n",
            "2. FO = 5.92\n",
            "   B8 vs B11 → Horario 7\n",
            "   B8 vs B9 → Horario 7\n",
            "   A1 vs C1 → Horario 7\n",
            "   B3 vs B6 → Horario 4\n",
            "   B4 vs C6 → Horario 7\n",
            "   B2 vs C5 → Horario 7\n",
            "   A1 vs B9 → Horario 7\n",
            "   C3 vs C5 → Horario 7\n",
            "   A1 vs B6 → Horario 7\n",
            "   A2 vs B9 → Horario 7\n",
            "\n",
            "3. FO = 5.41\n",
            "   B8 vs B11 → Horario 4\n",
            "   B8 vs B9 → Horario 4\n",
            "   A1 vs C1 → Horario 4\n",
            "   B3 vs B6 → Horario 1\n",
            "   B4 vs C6 → Horario 1\n",
            "   B2 vs C5 → Horario 4\n",
            "   A1 vs B9 → Horario 6\n",
            "   C3 vs C5 → Horario 4\n",
            "   A1 vs B6 → Horario 4\n",
            "   A2 vs B9 → Horario 4\n",
            "\n"
          ]
        }
      ]
    },
    {
      "cell_type": "markdown",
      "source": [
        "Podemos ver que el codigo anterior funciona de la manera en que esperamos, y ahora hay que agregar lo que de verdad nos va a funcionar para poder hacer todas las opciones que el problema pide por lo que tenemos que agregar 1. Que no se repitan los equipos en 1 mismo batch, esto podria alentar el procesamiento pero nos permite decir que cada batch es correcto, es decir que si podria ser una opcion verdadera. Al ser el batch cada jornada posible, entonces tambien tenemos que agregar la restriccion de que tenemos que tener minimo 1 partido en el viernes y minimo uno en el lunes.\n",
        "Por ultimo, tenemos que crear y vincular un archivo de drive en donde se van a ir guardando los resultados de los batches, ya que asi es como vamos a poder hacerlo por pasos sin necesidad de fullear la memoria."
      ],
      "metadata": {
        "id": "5PkNH_RF8Wct"
      }
    },
    {
      "cell_type": "code",
      "source": [
        "import itertools\n",
        "import random\n",
        "from google.colab import drive\n",
        "import pandas as pd\n",
        "\n",
        "# Montar Google Drive\n",
        "drive.mount('/content/drive')\n",
        "ruta_archivo = '/content/drive/MyDrive/resultados_local.csv'\n",
        "\n",
        "\n",
        "# Categoría A (3 equipos)\n",
        "equipos_A = [\"A1\", \"A2\", \"A3\"]\n",
        "\n",
        "# Categoría B (11 equipos)\n",
        "equipos_B = [\"B1\", \"B2\", \"B3\", \"B4\", \"B5\", \"B6\", \"B7\", \"B8\", \"B9\", \"B10\", \"B11\"]\n",
        "\n",
        "# Categoría C (6 equipos)\n",
        "equipos_C = [\"C1\", \"C2\", \"C3\", \"C4\", \"C5\", \"C6\"]\n",
        "\n",
        "#Generamos todos los partidos posibles con la funcion itertools.combinations. Que nos da todas las combinaciones de 2 elementos distintos sin repetir orden\n",
        "\n",
        "# A vs A\n",
        "AA = [f\"{a1} vs {a2}\" for a1, a2 in itertools.combinations(equipos_A, 2)]\n",
        "# B vs B\n",
        "BB = [f\"{b1} vs {b2}\" for b1, b2 in itertools.combinations(equipos_B, 2)]\n",
        "# C vs C\n",
        "CC = [f\"{c1} vs {c2}\" for c1, c2 in itertools.combinations(equipos_C, 2)]\n",
        "# A vs B\n",
        "AB = [f\"{a} vs {b}\" for a, b in itertools.product(equipos_A, equipos_B)]\n",
        "# A vs C\n",
        "AC = [f\"{a} vs {c}\" for a, c in itertools.product(equipos_A, equipos_C)]\n",
        "# B vs C\n",
        "BC = [f\"{b} vs {c}\" for b, c in itertools.product(equipos_B, equipos_C)]\n",
        "\n",
        "# Concatenamos todas las posibilidades en 1 sola lista\n",
        "\n",
        "todos_los_partidos = AA + BB + CC + AB + AC + BC\n",
        "print(f\"Total de partidos posibles: {len(todos_los_partidos)}\")\n",
        "\n",
        "#Definimos nuestra audiencia base en un diccionario para que sea mas facil ir por el valor de la misma ya que tenemos que hacerlo siempre\n",
        "audiencia_base = {\n",
        "    (\"A\", \"A\"): 2.0,\n",
        "    (\"A\", \"B\"): 1.3,\n",
        "    (\"B\", \"A\"): 1.3,\n",
        "    (\"A\", \"C\"): 1.0,\n",
        "    (\"C\", \"A\"): 1.0,\n",
        "    (\"B\", \"B\"): 0.9,\n",
        "    (\"B\", \"C\"): 0.75,\n",
        "    (\"C\", \"B\"): 0.75,\n",
        "}\n",
        "\n",
        "#definimos una funcion para obtener la audiencia dependiendo del partido, Basicamente nos entra el string de partido, que sacamos mas abajo y luego lo spliteamos\n",
        "#Luego nos quedamos solo con \"A\" \"B\" o \"C\" y en base a eso, obtenemos el valor por medio de la consulta al diccionario.\n",
        "def obtener_audiencia(partido: str) -> float:\n",
        "    \"\"\"Devuelve la audiencia base de un partido según las categorías.\"\"\"\n",
        "    eq1, _, eq2 = partido.split()\n",
        "    cat1, cat2 = eq1[0], eq2[0]  # A, B o C\n",
        "    return audiencia_base.get((cat1, cat2), 0.5)\n",
        "\n",
        "#Horarios y coincidencias\n",
        "horariosl = [\"Viernes 20h\", \"Sábado 12h\", \"Sábado 16h\", \"Sábado 18h\", \"Sábado 20h\",\n",
        "            \"Domingo 12h\", \"Domingo 16h\", \"Domingo 18h\", \"Domingo 20h\", \"Lunes 20h\"]\n",
        "coef_horarios = [0.4, 0.55, 0.7, 0.8, 1, 0.45, 0.75, 0.85, 1, 0.4]\n",
        "factor_coincidencia = [0,0.25,0.45,0.6,0.70,0.75,0.78,0.8,0.8,0.8,0.8]\n",
        "\n",
        "\n",
        "def calcular_fo(asignacion, partidos):\n",
        "    conteo = [0] * len(coef_horarios)\n",
        "    for h in asignacion:\n",
        "        conteo[h] += 1\n",
        "\n",
        "    total = 0\n",
        "    for i, h in enumerate(asignacion):\n",
        "        base = obtener_audiencia(partidos[i])\n",
        "        coef_h = coef_horarios[h]\n",
        "        k = conteo[h] - 1\n",
        "        factor = factor_coincidencia[k]\n",
        "        total += base * coef_h * (1-factor)\n",
        "    return total\n",
        "\n",
        "#Vamos a la parte de la prueba que hacemos en batch\n",
        "\n",
        "def Seleccion_Jornada(todos_los_partidos):\n",
        "\n",
        "  #Utilizamos set porque es un conjunto que no permite repeticiones\n",
        "  equipos_utilizados = set()\n",
        "  jornada=[]\n",
        "\n",
        "  partidos_disponibles = todos_los_partidos.copy()\n",
        "  random.shuffle(partidos_disponibles)\n",
        "  #Definimos los partidos aca, y hacemos que no se puedan repetir equipos asi como en una jornada normal\n",
        "  for partido in partidos_disponibles:\n",
        "    equipo1,_, equipo2 = partido.split()\n",
        "    if equipo1 not in equipos_utilizados and equipo2 not in equipos_utilizados:\n",
        "      jornada.append(partido)\n",
        "      equipos_utilizados.update([equipo1, equipo2])\n",
        "    if len(jornada) == 10:\n",
        "      break\n",
        "\n",
        "  return jornada\n",
        "\n",
        "def ejecutar_batches(todos_los_partidos, num_batches, intentos_por_batch, top_k, archivo=ruta_archivo):\n",
        "\n",
        "    top_global = []  # guarda los mejores de todos los batches\n",
        "    resultados = []  # guarda todos los resultados por batch (opcional)\n",
        "\n",
        "    for batch in range(num_batches):\n",
        "        # Selección de 10 partidos válidos para la jornada\n",
        "        partidos_batch = Seleccion_Jornada(todos_los_partidos)\n",
        "        mejores = []  # top 3 del batch\n",
        "\n",
        "#Si recorremos las 10 a la 10, mataríamos la memoria, por eso recurrimos a los batches. En este caso 1 de 100K\n",
        "    for _ in range(intentos_por_batch):\n",
        "\n",
        "      #Definimos que siempre tiene que haber una asignacion en 0 y en 9\n",
        "        asignacion = [0]*10\n",
        "        asignacion[0] = 0  # viernes\n",
        "        asignacion[1] = 9  # lunes\n",
        "        for i in range(2, 10):\n",
        "            asignacion[i] = random.randint(0, 9)\n",
        "\n",
        "        fo = calcular_fo(asignacion, partidos_batch)\n",
        "\n",
        "        if len(mejores) < top_k:\n",
        "            mejores.append((fo, asignacion))\n",
        "            mejores.sort(reverse=True)\n",
        "        else:\n",
        "            if fo > mejores[-1][0]:\n",
        "                mejores[-1] = (fo, asignacion)\n",
        "                mejores.sort(reverse=True)\n",
        "\n",
        "#Hacemos un ranking global que nos va a ayudar a ir definiendo el punto maximo de los batches\n",
        "\n",
        "    for fo, asign in mejores:\n",
        "            if len(top_global) < top_k:\n",
        "                top_global.append((fo, asign, partidos_batch))\n",
        "                top_global.sort(reverse=True, key=lambda x: x[0])\n",
        "            else:\n",
        "                if fo > top_global[-1][0]:\n",
        "                    top_global[-1] = (fo, asign, partidos_batch)\n",
        "                    top_global.sort(reverse=True, key=lambda x: x[0])\n",
        "\n",
        "\n",
        "    for rank, (fo, asign) in enumerate(mejores, start=1):\n",
        "            resultados.append({\n",
        "                \"Batch\": batch + 1,\n",
        "                \"Rank\": rank,\n",
        "                \"FO\": fo,\n",
        "                \"Partidos\": partidos_batch,\n",
        "                \"Asignacion\": asign\n",
        "            })\n",
        "\n",
        "# Guardado incremental en Drive\n",
        "    pd.DataFrame(resultados).to_csv(archivo, index=False)\n",
        "    print(f\" Batch {batch+1}/{num_batches} procesado\")\n",
        "\n",
        "    print(\"\\nTop 3 globales a lo largo de todos los batches:\")\n",
        "    for rank, (fo, asign, partidos) in enumerate(top_global, start=1):\n",
        "        print(f\"{rank}. FO = {fo:.2f}\")\n",
        "        for p, h in zip(partidos, asign):\n",
        "            print(f\"   {p} → Horario {h}\")\n",
        "        print()\n",
        "\n",
        "    print(f\"Todos los resultados guardados en {archivo}\")\n",
        "\n",
        "    return top_global, resultados\n",
        "\n",
        "top_global, resultados = ejecutar_batches(\n",
        "    todos_los_partidos=todos_los_partidos,\n",
        "    num_batches=10000,\n",
        "    intentos_por_batch=10000000,\n",
        "    top_k=3\n",
        ")\n",
        "\n"
      ],
      "metadata": {
        "colab": {
          "base_uri": "https://localhost:8080/"
        },
        "id": "Sjk035cr89BW",
        "outputId": "ba5f5494-64b6-4a0c-adba-c35d39b25d04"
      },
      "execution_count": 63,
      "outputs": [
        {
          "output_type": "stream",
          "name": "stdout",
          "text": [
            "Drive already mounted at /content/drive; to attempt to forcibly remount, call drive.mount(\"/content/drive\", force_remount=True).\n",
            "Total de partidos posibles: 190\n",
            " Batch 10000/10000 procesado\n",
            "\n",
            "Top 3 globales a lo largo de todos los batches:\n",
            "1. FO = 6.43\n",
            "   A1 vs A2 → Horario 0\n",
            "   B2 vs B8 → Horario 9\n",
            "   B4 vs B7 → Horario 7\n",
            "   B3 vs C5 → Horario 6\n",
            "   A3 vs B10 → Horario 4\n",
            "   B6 vs C2 → Horario 2\n",
            "   C1 vs C3 → Horario 5\n",
            "   B1 vs B11 → Horario 8\n",
            "   C4 vs C6 → Horario 1\n",
            "   B5 vs B9 → Horario 3\n",
            "\n",
            "2. FO = 6.43\n",
            "   A1 vs A2 → Horario 0\n",
            "   B2 vs B8 → Horario 9\n",
            "   B4 vs B7 → Horario 7\n",
            "   B3 vs C5 → Horario 2\n",
            "   A3 vs B10 → Horario 8\n",
            "   B6 vs C2 → Horario 6\n",
            "   C1 vs C3 → Horario 5\n",
            "   B1 vs B11 → Horario 3\n",
            "   C4 vs C6 → Horario 1\n",
            "   B5 vs B9 → Horario 4\n",
            "\n",
            "3. FO = 6.43\n",
            "   A1 vs A2 → Horario 0\n",
            "   B2 vs B8 → Horario 9\n",
            "   B4 vs B7 → Horario 3\n",
            "   B3 vs C5 → Horario 6\n",
            "   A3 vs B10 → Horario 4\n",
            "   B6 vs C2 → Horario 2\n",
            "   C1 vs C3 → Horario 5\n",
            "   B1 vs B11 → Horario 8\n",
            "   C4 vs C6 → Horario 1\n",
            "   B5 vs B9 → Horario 7\n",
            "\n",
            "Todos los resultados guardados en /content/drive/MyDrive/resultados_local.csv\n"
          ]
        }
      ]
    },
    {
      "cell_type": "markdown",
      "metadata": {
        "id": "tgrnsC2nkFa8"
      },
      "source": [
        "Calcula la complejidad del algoritmo por fuerza bruta"
      ]
    },
    {
      "cell_type": "markdown",
      "source": [
        "Cada partido puede estar asignado a cualquiera de las 10 franjas, como lo hemos visto anteriormente y en total, son 10 partidos. por lo que tenemos\n",
        "un numero de asignaciones de 10^10, esto significa que basandonos en nuestra tabla de ordenes de complejidad, tenemos un orden exponencial."
      ],
      "metadata": {
        "id": "1k0MXckBkmXu"
      }
    },
    {
      "cell_type": "markdown",
      "metadata": {
        "id": "9eUd3xwckP68"
      },
      "source": [
        "Respuesta"
      ]
    },
    {
      "cell_type": "markdown",
      "source": [
        "**ORDEN EXPONENCIAL**"
      ],
      "metadata": {
        "id": "OcW48ZnalX7j"
      }
    },
    {
      "cell_type": "markdown",
      "metadata": {
        "id": "txbrmLmskReM"
      },
      "source": [
        "(*)Diseña un algoritmo que mejore la complejidad del algortimo por fuerza bruta. Argumenta porque crees que mejora el algoritmo por fuerza bruta"
      ]
    },
    {
      "cell_type": "markdown",
      "metadata": {
        "id": "hLrVwt5QkZPD"
      },
      "source": [
        "Respuesta: Despues de ver los datos que tenemos y la manera en la que funciona, decidi que lo mejor es un algoritmo genetico. Esto debido a que al encontrar buenas jornadas, es posible utilizar esa informacion o esa familia para hacer mejores y asi. Muchas cosas se van a repetir, datos etc pero este algoritmo va a ser mas rapido y podriamos decir que mas estable que el algoritmo por fuerza bruta."
      ]
    },
    {
      "cell_type": "code",
      "metadata": {
        "id": "m1eyM21Vkabg",
        "colab": {
          "base_uri": "https://localhost:8080/"
        },
        "outputId": "4a292351-1a4c-4325-e7de-97d411929d05"
      },
      "source": [
        "import random\n",
        "import itertools\n",
        "\n",
        "# Categoría A (3 equipos)\n",
        "equipos_A = [\"A1\", \"A2\", \"A3\"]\n",
        "\n",
        "# Categoría B (11 equipos)\n",
        "equipos_B = [\"B1\", \"B2\", \"B3\", \"B4\", \"B5\", \"B6\", \"B7\", \"B8\", \"B9\", \"B10\", \"B11\"]\n",
        "\n",
        "# Categoría C (6 equipos)\n",
        "equipos_C = [\"C1\", \"C2\", \"C3\", \"C4\", \"C5\", \"C6\"]\n",
        "\n",
        "#Generamos todos los partidos posibles con la funcion itertools.combinations. Que nos da todas las combinaciones de 2 elementos distintos sin repetir orden\n",
        "\n",
        "# A vs A\n",
        "AA = [f\"{a1} vs {a2}\" for a1, a2 in itertools.combinations(equipos_A, 2)]\n",
        "# B vs B\n",
        "BB = [f\"{b1} vs {b2}\" for b1, b2 in itertools.combinations(equipos_B, 2)]\n",
        "# C vs C\n",
        "CC = [f\"{c1} vs {c2}\" for c1, c2 in itertools.combinations(equipos_C, 2)]\n",
        "# A vs B\n",
        "AB = [f\"{a} vs {b}\" for a, b in itertools.product(equipos_A, equipos_B)]\n",
        "# A vs C\n",
        "AC = [f\"{a} vs {c}\" for a, c in itertools.product(equipos_A, equipos_C)]\n",
        "# B vs C\n",
        "BC = [f\"{b} vs {c}\" for b, c in itertools.product(equipos_B, equipos_C)]\n",
        "\n",
        "# Concatenamos todas las posibilidades en 1 sola lista\n",
        "\n",
        "todos_los_partidos = AA + BB + CC + AB + AC + BC\n",
        "print(f\"Total de partidos posibles: {len(todos_los_partidos)}\")\n",
        "\n",
        "#Definimos nuestra audiencia base en un diccionario para que sea mas facil ir por el valor de la misma ya que tenemos que hacerlo siempre\n",
        "audiencia_base = {\n",
        "    (\"A\", \"A\"): 2.0,\n",
        "    (\"A\", \"B\"): 1.3,\n",
        "    (\"B\", \"A\"): 1.3,\n",
        "    (\"A\", \"C\"): 1.0,\n",
        "    (\"C\", \"A\"): 1.0,\n",
        "    (\"B\", \"B\"): 0.9,\n",
        "    (\"B\", \"C\"): 0.75,\n",
        "    (\"C\", \"B\"): 0.75,\n",
        "}\n",
        "\n",
        "#definimos una funcion para obtener la audiencia dependiendo del partido, Basicamente nos entra el string de partido, que sacamos mas abajo y luego lo spliteamos\n",
        "#Luego nos quedamos solo con \"A\" \"B\" o \"C\" y en base a eso, obtenemos el valor por medio de la consulta al diccionario.\n",
        "def obtener_audiencia(partido: str) -> float:\n",
        "    \"\"\"Devuelve la audiencia base de un partido según las categorías.\"\"\"\n",
        "    eq1, _, eq2 = partido.split()\n",
        "    cat1, cat2 = eq1[0], eq2[0]  # A, B o C\n",
        "    return audiencia_base.get((cat1, cat2), 0.5)\n",
        "\n",
        "#Horarios y coincidencias\n",
        "horariosl = [\"Viernes 20h\", \"Sábado 12h\", \"Sábado 16h\", \"Sábado 18h\", \"Sábado 20h\",\n",
        "            \"Domingo 12h\", \"Domingo 16h\", \"Domingo 18h\", \"Domingo 20h\", \"Lunes 20h\"]\n",
        "coef_horarios = [0.4, 0.55, 0.7, 0.8, 1, 0.45, 0.75, 0.85, 1, 0.4]\n",
        "factor_coincidencia = [0,0.25,0.45,0.6,0.70,0.75,0.78,0.8,0.8,0.8,0.8]\n",
        "\n",
        "\n",
        "def calcular_fo(asignacion, partidos):\n",
        "    conteo = [0] * len(coef_horarios)\n",
        "    for h in asignacion:\n",
        "        conteo[h] += 1\n",
        "\n",
        "    total = 0\n",
        "    for i, h in enumerate(asignacion):\n",
        "        base = obtener_audiencia(partidos[i])\n",
        "        coef_h = coef_horarios[h]\n",
        "        k = conteo[h] - 1\n",
        "        factor = factor_coincidencia[k]\n",
        "        total += base * coef_h * (1-factor)\n",
        "    return total\n",
        "\n",
        "def generar_individuo(n=10):\n",
        "    #Genera un cromosoma aleatorio con 10 asignaciones de horarios.#\n",
        "    asignacion = [random.randint(0, 9) for _ in range(n)]\n",
        "    asignacion[0] = 0  # viernes fijo\n",
        "    asignacion[1] = 9  # lunes fijo\n",
        "    return asignacion\n",
        "\n",
        "def mutacion(asignacion):\n",
        "    #Muta un gen aleatorio (excepto posiciones fijas viernes y lunes)#\n",
        "    i = random.randint(2, len(asignacion)-1)\n",
        "    asignacion[i] = random.randint(0, 9)\n",
        "    return asignacion\n",
        "\n",
        "\"\"\"\"\"\n",
        "def crossover(padre, madre):\n",
        "\n",
        "    punto = random.randint(2, len(padre)-1)\n",
        "    hijo1 = padre[:punto] + madre[punto:]\n",
        "    hijo2 = madre[:punto] + padre[punto:]\n",
        "    return hijo1, hijo2\n",
        "\"\"\"\n",
        "\n",
        "def crossover(padre, madre):\n",
        "    hijo1 = []\n",
        "    hijo2 = []\n",
        "    for g1, g2 in zip(padre, madre):\n",
        "        if random.random() < 0.5:\n",
        "            hijo1.append(g1)\n",
        "            hijo2.append(g2)\n",
        "        else:\n",
        "            hijo1.append(g2)\n",
        "            hijo2.append(g1)\n",
        "    return hijo1, hijo2\n",
        "\n",
        "def seleccionar_jornada(todos_los_partidos):\n",
        "    equipos_usados = set()\n",
        "    jornada = []\n",
        "    partidos_disponibles = todos_los_partidos.copy()\n",
        "    random.shuffle(partidos_disponibles)\n",
        "    for partido in partidos_disponibles:\n",
        "        eq1, _, eq2 = partido.split()\n",
        "        if eq1 not in equipos_usados and eq2 not in equipos_usados:\n",
        "            jornada.append(partido)\n",
        "            equipos_usados.update([eq1, eq2])\n",
        "        if len(jornada) == 10:\n",
        "            break\n",
        "    return jornada\n",
        "#Algoritmo Genetico definimos\n",
        "\n",
        "def algoritmo_genetico(partidos, generaciones, poblacion_size, elite, mut_prob):\n",
        "    # Población inicial\n",
        "    poblacion = [generar_individuo() for _ in range(poblacion_size)]\n",
        "\n",
        "    for gen in range(generaciones):\n",
        "        # Evaluar fitness\n",
        "        evaluados = [(calcular_fo(ind, partidos), ind) for ind in poblacion]\n",
        "        evaluados.sort(reverse=True, key=lambda x: x[0])\n",
        "\n",
        "        print(f\"Gen {gen+1} → Mejor FO = {evaluados[0][0]:.2f}\")\n",
        "\n",
        "        # Selección de élite\n",
        "        nueva_poblacion = [ind for (_, ind) in evaluados[:elite]]\n",
        "\n",
        "        # Cruce y mutación\n",
        "        while len(nueva_poblacion) < poblacion_size:\n",
        "            padre = random.choice(evaluados[:10])[1]\n",
        "            madre = random.choice(evaluados[:10])[1]\n",
        "            hijo1, hijo2 = crossover(padre, madre)\n",
        "\n",
        "            if random.random() < mut_prob:\n",
        "                hijo1 = mutacion(hijo1)\n",
        "            if random.random() < mut_prob:\n",
        "                hijo2 = mutacion(hijo2)\n",
        "\n",
        "            nueva_poblacion.extend([hijo1, hijo2])\n",
        "\n",
        "        poblacion = nueva_poblacion[:poblacion_size]\n",
        "\n",
        "        #Hacemos un reinicio al 20% de la poblacion para ayudar a la variedad\n",
        "        if gen % 50 == 0 and gen > 0:\n",
        "            num_reinicio = (poblacion_size // 5)\n",
        "            for i in range(num_reinicio):\n",
        "                poblacion[-i-1] = generar_individuo()\n",
        "\n",
        "    # Mejor resultado final\n",
        "    mejor_fo, mejor_asign = max([(calcular_fo(ind, partidos), ind) for ind in poblacion], key=lambda x: x[0])\n",
        "    return mejor_fo, mejor_asign\n",
        "\n",
        "\n",
        "if __name__ == \"__main__\":\n",
        "    mejor_global = (0, [])\n",
        "    for corrida in range(10):  # 5 corridas independientes\n",
        "        partidos_batch = seleccionar_jornada(todos_los_partidos)\n",
        "        fo, asign = algoritmo_genetico(\n",
        "        partidos_batch,\n",
        "        generaciones=25,       # menos generaciones si la población es mayor\n",
        "        poblacion_size=2000,\n",
        "        elite=4,\n",
        "        mut_prob=0.3)\n",
        "        print(f\"\\nCorrida {corrida+1} → Mejor FO = {fo:.2f}\")\n",
        "        if fo > mejor_global[0]:\n",
        "            mejor_global = (fo, asign)\n",
        "\n",
        "\n",
        "    print(\"\\n=== Mejor solución global de todas las corridas ===\")\n",
        "    for p, h in zip(partidos_batch, mejor_global[1]):\n",
        "        print(f\"{p} → Horario {h}\")\n",
        "    print(f\"FO = {mejor_global[0]:.2f}\")"
      ],
      "execution_count": 66,
      "outputs": [
        {
          "output_type": "stream",
          "name": "stdout",
          "text": [
            "Total de partidos posibles: 190\n",
            "Gen 1 → Mejor FO = 6.39\n",
            "Gen 2 → Mejor FO = 6.53\n",
            "Gen 3 → Mejor FO = 6.56\n",
            "Gen 4 → Mejor FO = 6.56\n",
            "Gen 5 → Mejor FO = 6.56\n",
            "Gen 6 → Mejor FO = 6.56\n",
            "Gen 7 → Mejor FO = 6.56\n",
            "Gen 8 → Mejor FO = 6.56\n",
            "Gen 9 → Mejor FO = 6.56\n",
            "Gen 10 → Mejor FO = 6.56\n",
            "Gen 11 → Mejor FO = 6.56\n",
            "Gen 12 → Mejor FO = 6.56\n",
            "Gen 13 → Mejor FO = 6.56\n",
            "Gen 14 → Mejor FO = 6.56\n",
            "Gen 15 → Mejor FO = 6.56\n",
            "Gen 16 → Mejor FO = 6.56\n",
            "Gen 17 → Mejor FO = 6.56\n",
            "Gen 18 → Mejor FO = 6.56\n",
            "Gen 19 → Mejor FO = 6.56\n",
            "Gen 20 → Mejor FO = 6.56\n",
            "Gen 21 → Mejor FO = 6.56\n",
            "Gen 22 → Mejor FO = 6.56\n",
            "Gen 23 → Mejor FO = 6.56\n",
            "Gen 24 → Mejor FO = 6.56\n",
            "Gen 25 → Mejor FO = 6.56\n",
            "\n",
            "Corrida 1 → Mejor FO = 6.56\n",
            "Gen 1 → Mejor FO = 6.84\n",
            "Gen 2 → Mejor FO = 6.92\n",
            "Gen 3 → Mejor FO = 6.96\n",
            "Gen 4 → Mejor FO = 6.96\n",
            "Gen 5 → Mejor FO = 6.96\n",
            "Gen 6 → Mejor FO = 6.96\n",
            "Gen 7 → Mejor FO = 6.96\n",
            "Gen 8 → Mejor FO = 6.96\n",
            "Gen 9 → Mejor FO = 6.96\n",
            "Gen 10 → Mejor FO = 6.96\n",
            "Gen 11 → Mejor FO = 6.96\n",
            "Gen 12 → Mejor FO = 6.96\n",
            "Gen 13 → Mejor FO = 6.96\n",
            "Gen 14 → Mejor FO = 6.96\n",
            "Gen 15 → Mejor FO = 6.96\n",
            "Gen 16 → Mejor FO = 6.96\n",
            "Gen 17 → Mejor FO = 6.96\n",
            "Gen 18 → Mejor FO = 6.96\n",
            "Gen 19 → Mejor FO = 6.96\n",
            "Gen 20 → Mejor FO = 6.96\n",
            "Gen 21 → Mejor FO = 6.96\n",
            "Gen 22 → Mejor FO = 6.96\n",
            "Gen 23 → Mejor FO = 6.96\n",
            "Gen 24 → Mejor FO = 6.96\n",
            "Gen 25 → Mejor FO = 6.96\n",
            "\n",
            "Corrida 2 → Mejor FO = 6.96\n",
            "Gen 1 → Mejor FO = 6.15\n",
            "Gen 2 → Mejor FO = 6.16\n",
            "Gen 3 → Mejor FO = 6.16\n",
            "Gen 4 → Mejor FO = 6.16\n",
            "Gen 5 → Mejor FO = 6.16\n",
            "Gen 6 → Mejor FO = 6.16\n",
            "Gen 7 → Mejor FO = 6.16\n",
            "Gen 8 → Mejor FO = 6.16\n",
            "Gen 9 → Mejor FO = 6.16\n",
            "Gen 10 → Mejor FO = 6.16\n",
            "Gen 11 → Mejor FO = 6.16\n",
            "Gen 12 → Mejor FO = 6.16\n",
            "Gen 13 → Mejor FO = 6.16\n",
            "Gen 14 → Mejor FO = 6.16\n",
            "Gen 15 → Mejor FO = 6.16\n",
            "Gen 16 → Mejor FO = 6.16\n",
            "Gen 17 → Mejor FO = 6.16\n",
            "Gen 18 → Mejor FO = 6.16\n",
            "Gen 19 → Mejor FO = 6.16\n",
            "Gen 20 → Mejor FO = 6.16\n",
            "Gen 21 → Mejor FO = 6.16\n",
            "Gen 22 → Mejor FO = 6.16\n",
            "Gen 23 → Mejor FO = 6.16\n",
            "Gen 24 → Mejor FO = 6.16\n",
            "Gen 25 → Mejor FO = 6.16\n",
            "\n",
            "Corrida 3 → Mejor FO = 6.16\n",
            "Gen 1 → Mejor FO = 6.86\n",
            "Gen 2 → Mejor FO = 7.11\n",
            "Gen 3 → Mejor FO = 7.13\n",
            "Gen 4 → Mejor FO = 7.17\n",
            "Gen 5 → Mejor FO = 7.18\n",
            "Gen 6 → Mejor FO = 7.18\n",
            "Gen 7 → Mejor FO = 7.18\n",
            "Gen 8 → Mejor FO = 7.18\n",
            "Gen 9 → Mejor FO = 7.18\n",
            "Gen 10 → Mejor FO = 7.18\n",
            "Gen 11 → Mejor FO = 7.18\n",
            "Gen 12 → Mejor FO = 7.18\n",
            "Gen 13 → Mejor FO = 7.18\n",
            "Gen 14 → Mejor FO = 7.18\n",
            "Gen 15 → Mejor FO = 7.18\n",
            "Gen 16 → Mejor FO = 7.18\n",
            "Gen 17 → Mejor FO = 7.18\n",
            "Gen 18 → Mejor FO = 7.18\n",
            "Gen 19 → Mejor FO = 7.18\n",
            "Gen 20 → Mejor FO = 7.18\n",
            "Gen 21 → Mejor FO = 7.18\n",
            "Gen 22 → Mejor FO = 7.18\n",
            "Gen 23 → Mejor FO = 7.18\n",
            "Gen 24 → Mejor FO = 7.18\n",
            "Gen 25 → Mejor FO = 7.18\n",
            "\n",
            "Corrida 4 → Mejor FO = 7.18\n",
            "Gen 1 → Mejor FO = 6.35\n",
            "Gen 2 → Mejor FO = 6.41\n",
            "Gen 3 → Mejor FO = 6.43\n",
            "Gen 4 → Mejor FO = 6.46\n",
            "Gen 5 → Mejor FO = 6.46\n",
            "Gen 6 → Mejor FO = 6.46\n",
            "Gen 7 → Mejor FO = 6.46\n",
            "Gen 8 → Mejor FO = 6.46\n",
            "Gen 9 → Mejor FO = 6.46\n",
            "Gen 10 → Mejor FO = 6.46\n",
            "Gen 11 → Mejor FO = 6.46\n",
            "Gen 12 → Mejor FO = 6.46\n",
            "Gen 13 → Mejor FO = 6.46\n",
            "Gen 14 → Mejor FO = 6.46\n",
            "Gen 15 → Mejor FO = 6.46\n",
            "Gen 16 → Mejor FO = 6.46\n",
            "Gen 17 → Mejor FO = 6.46\n",
            "Gen 18 → Mejor FO = 6.46\n",
            "Gen 19 → Mejor FO = 6.46\n",
            "Gen 20 → Mejor FO = 6.46\n",
            "Gen 21 → Mejor FO = 6.46\n",
            "Gen 22 → Mejor FO = 6.46\n",
            "Gen 23 → Mejor FO = 6.46\n",
            "Gen 24 → Mejor FO = 6.46\n",
            "Gen 25 → Mejor FO = 6.46\n",
            "\n",
            "Corrida 5 → Mejor FO = 6.46\n",
            "Gen 1 → Mejor FO = 6.18\n",
            "Gen 2 → Mejor FO = 6.25\n",
            "Gen 3 → Mejor FO = 6.31\n",
            "Gen 4 → Mejor FO = 6.31\n",
            "Gen 5 → Mejor FO = 6.31\n",
            "Gen 6 → Mejor FO = 6.31\n",
            "Gen 7 → Mejor FO = 6.31\n",
            "Gen 8 → Mejor FO = 6.31\n",
            "Gen 9 → Mejor FO = 6.31\n",
            "Gen 10 → Mejor FO = 6.31\n",
            "Gen 11 → Mejor FO = 6.31\n",
            "Gen 12 → Mejor FO = 6.31\n",
            "Gen 13 → Mejor FO = 6.31\n",
            "Gen 14 → Mejor FO = 6.31\n",
            "Gen 15 → Mejor FO = 6.31\n",
            "Gen 16 → Mejor FO = 6.31\n",
            "Gen 17 → Mejor FO = 6.31\n",
            "Gen 18 → Mejor FO = 6.31\n",
            "Gen 19 → Mejor FO = 6.31\n",
            "Gen 20 → Mejor FO = 6.31\n",
            "Gen 21 → Mejor FO = 6.31\n",
            "Gen 22 → Mejor FO = 6.31\n",
            "Gen 23 → Mejor FO = 6.31\n",
            "Gen 24 → Mejor FO = 6.31\n",
            "Gen 25 → Mejor FO = 6.31\n",
            "\n",
            "Corrida 6 → Mejor FO = 6.31\n",
            "Gen 1 → Mejor FO = 6.66\n",
            "Gen 2 → Mejor FO = 6.84\n",
            "Gen 3 → Mejor FO = 6.84\n",
            "Gen 4 → Mejor FO = 6.84\n",
            "Gen 5 → Mejor FO = 6.84\n",
            "Gen 6 → Mejor FO = 6.84\n",
            "Gen 7 → Mejor FO = 6.84\n",
            "Gen 8 → Mejor FO = 6.84\n",
            "Gen 9 → Mejor FO = 6.84\n",
            "Gen 10 → Mejor FO = 6.84\n",
            "Gen 11 → Mejor FO = 6.84\n",
            "Gen 12 → Mejor FO = 6.84\n",
            "Gen 13 → Mejor FO = 6.84\n",
            "Gen 14 → Mejor FO = 6.84\n",
            "Gen 15 → Mejor FO = 6.84\n",
            "Gen 16 → Mejor FO = 6.84\n",
            "Gen 17 → Mejor FO = 6.84\n",
            "Gen 18 → Mejor FO = 6.84\n",
            "Gen 19 → Mejor FO = 6.84\n",
            "Gen 20 → Mejor FO = 6.84\n",
            "Gen 21 → Mejor FO = 6.84\n",
            "Gen 22 → Mejor FO = 6.84\n",
            "Gen 23 → Mejor FO = 6.84\n",
            "Gen 24 → Mejor FO = 6.84\n",
            "Gen 25 → Mejor FO = 6.84\n",
            "\n",
            "Corrida 7 → Mejor FO = 6.84\n",
            "Gen 1 → Mejor FO = 6.17\n",
            "Gen 2 → Mejor FO = 6.41\n",
            "Gen 3 → Mejor FO = 6.54\n",
            "Gen 4 → Mejor FO = 6.55\n",
            "Gen 5 → Mejor FO = 6.55\n",
            "Gen 6 → Mejor FO = 6.55\n",
            "Gen 7 → Mejor FO = 6.55\n",
            "Gen 8 → Mejor FO = 6.55\n",
            "Gen 9 → Mejor FO = 6.55\n",
            "Gen 10 → Mejor FO = 6.55\n",
            "Gen 11 → Mejor FO = 6.55\n",
            "Gen 12 → Mejor FO = 6.55\n",
            "Gen 13 → Mejor FO = 6.55\n",
            "Gen 14 → Mejor FO = 6.55\n",
            "Gen 15 → Mejor FO = 6.55\n",
            "Gen 16 → Mejor FO = 6.55\n",
            "Gen 17 → Mejor FO = 6.55\n",
            "Gen 18 → Mejor FO = 6.55\n",
            "Gen 19 → Mejor FO = 6.55\n",
            "Gen 20 → Mejor FO = 6.55\n",
            "Gen 21 → Mejor FO = 6.55\n",
            "Gen 22 → Mejor FO = 6.55\n",
            "Gen 23 → Mejor FO = 6.55\n",
            "Gen 24 → Mejor FO = 6.55\n",
            "Gen 25 → Mejor FO = 6.55\n",
            "\n",
            "Corrida 8 → Mejor FO = 6.55\n",
            "Gen 1 → Mejor FO = 6.53\n",
            "Gen 2 → Mejor FO = 6.67\n",
            "Gen 3 → Mejor FO = 6.71\n",
            "Gen 4 → Mejor FO = 6.71\n",
            "Gen 5 → Mejor FO = 6.71\n",
            "Gen 6 → Mejor FO = 6.71\n",
            "Gen 7 → Mejor FO = 6.71\n",
            "Gen 8 → Mejor FO = 6.71\n",
            "Gen 9 → Mejor FO = 6.71\n",
            "Gen 10 → Mejor FO = 6.71\n",
            "Gen 11 → Mejor FO = 6.71\n",
            "Gen 12 → Mejor FO = 6.71\n",
            "Gen 13 → Mejor FO = 6.71\n",
            "Gen 14 → Mejor FO = 6.71\n",
            "Gen 15 → Mejor FO = 6.71\n",
            "Gen 16 → Mejor FO = 6.71\n",
            "Gen 17 → Mejor FO = 6.71\n",
            "Gen 18 → Mejor FO = 6.71\n",
            "Gen 19 → Mejor FO = 6.71\n",
            "Gen 20 → Mejor FO = 6.71\n",
            "Gen 21 → Mejor FO = 6.71\n",
            "Gen 22 → Mejor FO = 6.71\n",
            "Gen 23 → Mejor FO = 6.71\n",
            "Gen 24 → Mejor FO = 6.71\n",
            "Gen 25 → Mejor FO = 6.71\n",
            "\n",
            "Corrida 9 → Mejor FO = 6.71\n",
            "Gen 1 → Mejor FO = 6.44\n",
            "Gen 2 → Mejor FO = 6.64\n",
            "Gen 3 → Mejor FO = 6.67\n",
            "Gen 4 → Mejor FO = 6.67\n",
            "Gen 5 → Mejor FO = 6.67\n",
            "Gen 6 → Mejor FO = 6.67\n",
            "Gen 7 → Mejor FO = 6.67\n",
            "Gen 8 → Mejor FO = 6.67\n",
            "Gen 9 → Mejor FO = 6.67\n",
            "Gen 10 → Mejor FO = 6.67\n",
            "Gen 11 → Mejor FO = 6.67\n",
            "Gen 12 → Mejor FO = 6.67\n",
            "Gen 13 → Mejor FO = 6.67\n",
            "Gen 14 → Mejor FO = 6.67\n",
            "Gen 15 → Mejor FO = 6.67\n",
            "Gen 16 → Mejor FO = 6.67\n",
            "Gen 17 → Mejor FO = 6.67\n",
            "Gen 18 → Mejor FO = 6.67\n",
            "Gen 19 → Mejor FO = 6.67\n",
            "Gen 20 → Mejor FO = 6.67\n",
            "Gen 21 → Mejor FO = 6.67\n",
            "Gen 22 → Mejor FO = 6.67\n",
            "Gen 23 → Mejor FO = 6.67\n",
            "Gen 24 → Mejor FO = 6.67\n",
            "Gen 25 → Mejor FO = 6.67\n",
            "\n",
            "Corrida 10 → Mejor FO = 6.67\n",
            "\n",
            "=== Mejor solución global de todas las corridas ===\n",
            "B5 vs B8 → Horario 0\n",
            "B9 vs C2 → Horario 9\n",
            "B3 vs B11 → Horario 3\n",
            "A1 vs C6 → Horario 6\n",
            "B7 vs C4 → Horario 4\n",
            "A3 vs B4 → Horario 2\n",
            "B6 vs C5 → Horario 8\n",
            "A2 vs B2 → Horario 7\n",
            "B1 vs C3 → Horario 1\n",
            "B10 vs C1 → Horario 5\n",
            "FO = 7.18\n"
          ]
        }
      ]
    },
    {
      "cell_type": "markdown",
      "metadata": {
        "id": "eGDB4K6uk1iN"
      },
      "source": [
        "(*)Calcula la complejidad del algoritmo"
      ]
    },
    {
      "cell_type": "markdown",
      "metadata": {
        "id": "NhpTh_BPk1ms"
      },
      "source": [
        "Respuesta"
      ]
    },
    {
      "cell_type": "markdown",
      "metadata": {
        "id": "3M6QjTsSkmYe"
      },
      "source": [
        "Según el problema (y tenga sentido), diseña un juego de datos de entrada aleatorios"
      ]
    },
    {
      "cell_type": "markdown",
      "metadata": {
        "id": "Jc3_OlyNkvjZ"
      },
      "source": [
        "Respuesta"
      ]
    },
    {
      "cell_type": "code",
      "metadata": {
        "id": "sJ-N2etjkyWc"
      },
      "source": [],
      "execution_count": null,
      "outputs": []
    },
    {
      "cell_type": "markdown",
      "metadata": {
        "id": "zy5ZROmjlGo1"
      },
      "source": [
        "Aplica el algoritmo al juego de datos generado"
      ]
    },
    {
      "cell_type": "markdown",
      "metadata": {
        "id": "_Cmj-PVylMsa"
      },
      "source": [
        "Respuesta"
      ]
    },
    {
      "cell_type": "code",
      "metadata": {
        "id": "Jkx8GeiYlUz1"
      },
      "source": [],
      "execution_count": null,
      "outputs": []
    },
    {
      "cell_type": "markdown",
      "metadata": {
        "id": "eTFWUJQrtGcv"
      },
      "source": [
        "Enumera las referencias que has utilizado(si ha sido necesario) para llevar a cabo el trabajo"
      ]
    },
    {
      "cell_type": "markdown",
      "metadata": {
        "id": "YKQ_mRBttWsP"
      },
      "source": [
        "Respuesta"
      ]
    },
    {
      "cell_type": "markdown",
      "metadata": {
        "id": "kAkDPUyRtYyH"
      },
      "source": [
        "Describe brevemente las lineas de como crees que es posible avanzar en el estudio del problema. Ten en cuenta incluso posibles variaciones del problema y/o variaciones al alza del tamaño"
      ]
    },
    {
      "cell_type": "markdown",
      "metadata": {
        "id": "IE0uZmo-tZu-"
      },
      "source": [
        "Respuesta"
      ]
    }
  ]
}